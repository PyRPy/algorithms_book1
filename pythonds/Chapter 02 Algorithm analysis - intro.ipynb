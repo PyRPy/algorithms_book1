{
 "cells": [
  {
   "cell_type": "code",
   "execution_count": 1,
   "metadata": {},
   "outputs": [],
   "source": [
    "# 2.2 what's algorithm analysis"
   ]
  },
  {
   "cell_type": "code",
   "execution_count": 2,
   "metadata": {},
   "outputs": [
    {
     "name": "stdout",
     "output_type": "stream",
     "text": [
      "55\n"
     ]
    }
   ],
   "source": [
    "def sum_of_n(n):\n",
    "    the_sum = 0 \n",
    "    for i in range(1, n+1):\n",
    "        the_sum = the_sum + i \n",
    "    return the_sum\n",
    "\n",
    "print(sum_of_n(10))"
   ]
  },
  {
   "cell_type": "code",
   "execution_count": 3,
   "metadata": {},
   "outputs": [],
   "source": [
    "import time\n",
    "\n",
    "def sum_of_n_2(n):\n",
    "    start = time.time()\n",
    "    the_sum = 0\n",
    "    for i in range(1, n+1):\n",
    "        the_sum = the_sum + i\n",
    "        \n",
    "    end = time.time()\n",
    "    return the_sum, end - start "
   ]
  },
  {
   "cell_type": "code",
   "execution_count": 4,
   "metadata": {},
   "outputs": [
    {
     "name": "stdout",
     "output_type": "stream",
     "text": [
      "sum is 50005000 required  0.0013099 seconds\n",
      "sum is 50005000 required  0.0023198 seconds\n",
      "sum is 50005000 required  0.0012431 seconds\n",
      "sum is 50005000 required  0.0012410 seconds\n",
      "sum is 50005000 required  0.0012510 seconds\n"
     ]
    }
   ],
   "source": [
    "for i in range(5):\n",
    "    print(\"sum is %d required %10.7f seconds\" % sum_of_n_2(10000))"
   ]
  },
  {
   "cell_type": "code",
   "execution_count": 5,
   "metadata": {},
   "outputs": [
    {
     "name": "stdout",
     "output_type": "stream",
     "text": [
      "sum is 500000500000 required  0.0837801 seconds\n",
      "sum is 500000500000 required  0.0716300 seconds\n",
      "sum is 500000500000 required  0.0697081 seconds\n",
      "sum is 500000500000 required  0.0731630 seconds\n",
      "sum is 500000500000 required  0.0671012 seconds\n"
     ]
    }
   ],
   "source": [
    "for i in range(5):\n",
    "    print(\"sum is %d required %10.7f seconds\" % sum_of_n_2(1000000))"
   ]
  },
  {
   "cell_type": "code",
   "execution_count": 6,
   "metadata": {},
   "outputs": [],
   "source": [
    "import time\n",
    "\n",
    "def sum_of_n_3(n):\n",
    "    start = time.time()\n",
    "    the_sum = (n*(n+1)) / 2\n",
    "        \n",
    "    end = time.time()\n",
    "    return the_sum, end - start "
   ]
  },
  {
   "cell_type": "code",
   "execution_count": 7,
   "metadata": {},
   "outputs": [
    {
     "name": "stdout",
     "output_type": "stream",
     "text": [
      "sum is 500000500000 required  0.0000021 seconds\n",
      "sum is 500000500000 required  0.0000010 seconds\n",
      "sum is 500000500000 required  0.0000010 seconds\n",
      "sum is 500000500000 required  0.0000017 seconds\n",
      "sum is 500000500000 required  0.0000021 seconds\n"
     ]
    }
   ],
   "source": [
    "for i in range(5):\n",
    "    print(\"sum is %d required %10.7f seconds\" % sum_of_n_3(1000000))"
   ]
  }
 ],
 "metadata": {
  "kernelspec": {
   "display_name": "Python 3",
   "language": "python",
   "name": "python3"
  },
  "language_info": {
   "codemirror_mode": {
    "name": "ipython",
    "version": 3
   },
   "file_extension": ".py",
   "mimetype": "text/x-python",
   "name": "python",
   "nbconvert_exporter": "python",
   "pygments_lexer": "ipython3",
   "version": "3.7.4"
  }
 },
 "nbformat": 4,
 "nbformat_minor": 2
}
