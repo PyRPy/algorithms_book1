{
 "cells": [
  {
   "cell_type": "code",
   "execution_count": 1,
   "metadata": {},
   "outputs": [],
   "source": [
    "def wordcount(fname):\n",
    "    try:\n",
    "        fhand=open(fname)\n",
    "    except:\n",
    "        print('File cannot be opened')\n",
    "    exit()\n",
    "    \n",
    "    count= dict()\n",
    "    for line in fhand:\n",
    "        words = line.split()\n",
    "        for word in words:\n",
    "            if word not in count:\n",
    "                count[word] = 1\n",
    "            else:\n",
    "                count[word] += 1\n",
    "    return(count)"
   ]
  },
  {
   "cell_type": "code",
   "execution_count": 2,
   "metadata": {},
   "outputs": [
    {
     "data": {
      "text/plain": [
       "{'Alice;': 16,\n",
       " 'Hare': 16,\n",
       " 'Mouse': 17,\n",
       " 'Queen,': 17,\n",
       " 'There': 19,\n",
       " '`And': 17,\n",
       " '`But': 19,\n",
       " \"`I'm\": 19,\n",
       " '`Oh,': 19,\n",
       " '`but': 19,\n",
       " 'again.': 16,\n",
       " 'and,': 19,\n",
       " 'before': 19,\n",
       " 'being': 19,\n",
       " 'cried': 18,\n",
       " 'curious': 16,\n",
       " \"doesn't\": 16,\n",
       " 'eat': 16,\n",
       " 'even': 17,\n",
       " 'ever': 16,\n",
       " 'eyes': 18,\n",
       " 'her,': 18,\n",
       " 'is,': 16,\n",
       " \"it,'\": 18,\n",
       " 'once': 18,\n",
       " 'sat': 17,\n",
       " 'sort': 17,\n",
       " 'sure': 16,\n",
       " 'take': 18,\n",
       " 'things': 19,\n",
       " 'this,': 17,\n",
       " 'till': 19,\n",
       " 'tone,': 16,\n",
       " 'tried': 18,\n",
       " 'turned': 16,\n",
       " 'under': 16,\n",
       " 'use': 16,\n",
       " 'voice': 17}"
      ]
     },
     "execution_count": 2,
     "metadata": {},
     "output_type": "execute_result"
    }
   ],
   "source": [
    "# http://www.umich.edu/~umfandsf/other/ebooks/alice30.txt\n",
    "count=wordcount('alice.txt')\n",
    "filtered = {key : value for key, value in count.items() if value < 20 and value >15}\n",
    "filtered"
   ]
  },
  {
   "cell_type": "code",
   "execution_count": 1,
   "metadata": {},
   "outputs": [],
   "source": [
    "# Sets\n",
    "s1 = {'ab', 3, 4, (5, 6)}\n",
    "s2 = {'ab', 7, (7,6)}"
   ]
  },
  {
   "cell_type": "code",
   "execution_count": 2,
   "metadata": {},
   "outputs": [
    {
     "data": {
      "text/plain": [
       "{(5, 6), 3, 4}"
      ]
     },
     "execution_count": 2,
     "metadata": {},
     "output_type": "execute_result"
    }
   ],
   "source": [
    "s1-s2 # difference"
   ]
  },
  {
   "cell_type": "code",
   "execution_count": null,
   "metadata": {},
   "outputs": [],
   "source": [
    "# Collections"
   ]
  },
  {
   "cell_type": "code",
   "execution_count": 3,
   "metadata": {},
   "outputs": [],
   "source": [
    "from collections import deque"
   ]
  }
 ],
 "metadata": {
  "kernelspec": {
   "display_name": "Python 3",
   "language": "python",
   "name": "python3"
  },
  "language_info": {
   "codemirror_mode": {
    "name": "ipython",
    "version": 3
   },
   "file_extension": ".py",
   "mimetype": "text/x-python",
   "name": "python",
   "nbconvert_exporter": "python",
   "pygments_lexer": "ipython3",
   "version": "3.5.5"
  }
 },
 "nbformat": 4,
 "nbformat_minor": 2
}
