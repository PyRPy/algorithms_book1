{
 "cells": [
  {
   "cell_type": "markdown",
   "metadata": {},
   "source": [
    "Lecture 7: Confidence Intervals"
   ]
  },
  {
   "cell_type": "code",
   "execution_count": 2,
   "metadata": {},
   "outputs": [],
   "source": [
    "import random, pylab, numpy"
   ]
  },
  {
   "cell_type": "code",
   "execution_count": 3,
   "metadata": {},
   "outputs": [],
   "source": [
    "#set line width\n",
    "pylab.rcParams['lines.linewidth'] = 4\n",
    "#set font size for titles \n",
    "pylab.rcParams['axes.titlesize'] = 20\n",
    "#set font size for labels on axes\n",
    "pylab.rcParams['axes.labelsize'] = 20\n",
    "#set size of numbers on x-axis\n",
    "pylab.rcParams['xtick.labelsize'] = 16\n",
    "#set size of numbers on y-axis\n",
    "pylab.rcParams['ytick.labelsize'] = 16\n",
    "#set size of ticks on x-axis\n",
    "pylab.rcParams['xtick.major.size'] = 7\n",
    "#set size of ticks on y-axis\n",
    "pylab.rcParams['ytick.major.size'] = 7\n",
    "#set size of markers, e.g., circles representing points\n",
    "#set numpoints for legend\n",
    "pylab.rcParams['legend.numpoints'] = 1"
   ]
  },
  {
   "cell_type": "code",
   "execution_count": 4,
   "metadata": {},
   "outputs": [],
   "source": [
    "class FairRoulette():\n",
    "    def __init__(self):\n",
    "        self.pockets = []\n",
    "        for i in range(1,37):\n",
    "            self.pockets.append(i)\n",
    "        self.ball = None\n",
    "        self.pocketOdds = len(self.pockets) - 1\n",
    "    def spin(self):\n",
    "        self.ball = random.choice(self.pockets)\n",
    "    def betPocket(self, pocket, amt):\n",
    "        if str(pocket) == str(self.ball):\n",
    "            return amt*self.pocketOdds\n",
    "        else: return -amt\n",
    "    def __str__(self):\n",
    "        return 'Fair Roulette'"
   ]
  },
  {
   "cell_type": "code",
   "execution_count": 5,
   "metadata": {},
   "outputs": [],
   "source": [
    "def playRoulette(game, numSpins, pocket, bet, toPrint):\n",
    "    totPocket = 0\n",
    "    for i in range(numSpins):\n",
    "        game.spin()\n",
    "        totPocket += game.betPocket(pocket, bet)\n",
    "    if toPrint:\n",
    "        print(numSpins, 'spins of', game)\n",
    "        print('Expected return betting', pocket, '=',\\\n",
    "              str(100*totPocket/numSpins) + '%\\n')\n",
    "    return (totPocket/numSpins)"
   ]
  },
  {
   "cell_type": "code",
   "execution_count": 6,
   "metadata": {},
   "outputs": [],
   "source": [
    "def findPocketReturn(game, numTrials, trialSize, toPrint):\n",
    "    pocketReturns = []\n",
    "    for t in range(numTrials):\n",
    "        trialVals = playRoulette(game, trialSize, 2, 1, toPrint)\n",
    "        pocketReturns.append(trialVals)\n",
    "    return pocketReturns"
   ]
  },
  {
   "cell_type": "code",
   "execution_count": 7,
   "metadata": {},
   "outputs": [],
   "source": [
    "def getMeanAndStd(X):\n",
    "    mean = sum(X)/float(len(X))\n",
    "    tot = 0.0\n",
    "    for x in X:\n",
    "        tot += (x - mean)**2\n",
    "    std = (tot/len(X))**0.5\n",
    "    return mean, std"
   ]
  },
  {
   "cell_type": "code",
   "execution_count": 8,
   "metadata": {},
   "outputs": [
    {
     "data": {
      "image/png": "[encoded data removed]",
      "text/plain": [
       "<Figure size 432x288 with 1 Axes>"
      ]
     },
     "metadata": {},
     "output_type": "display_data"
    }
   ],
   "source": [
    "random.seed(1)\n",
    "dist, numSamples = [], 1000000\n",
    "\n",
    "for i in range(numSamples):\n",
    "    dist.append(random.gauss(0, 100))\n",
    "    \n",
    "weights = [1/numSamples]*len(dist)\n",
    "v = pylab.hist(dist, bins = 100,\n",
    "              weights = [1/numSamples]*len(dist))"
   ]
  },
  {
   "cell_type": "code",
   "execution_count": 9,
   "metadata": {},
   "outputs": [
    {
     "name": "stdout",
     "output_type": "stream",
     "text": [
      "Fraction within ~200 of mean = 0.9571469999999963\n"
     ]
    }
   ],
   "source": [
    "print('Fraction within ~200 of mean =',\n",
    "      sum(v[0][30:70]))"
   ]
  },
  {
   "cell_type": "code",
   "execution_count": 10,
   "metadata": {},
   "outputs": [],
   "source": [
    "def gaussian(x, mu, sigma):\n",
    "  factor1 = (1.0/(sigma*((2*pylab.pi)**0.5)))\n",
    "  factor2 = pylab.e**-(((x-mu)**2)/(2*sigma**2))\n",
    "  return factor1*factor2"
   ]
  },
  {
   "cell_type": "code",
   "execution_count": 11,
   "metadata": {},
   "outputs": [
    {
     "data": {
      "text/plain": [
       "Text(0.5,1,'Normal Distribution, mu = 0, sigma = 1')"
      ]
     },
     "execution_count": 11,
     "metadata": {},
     "output_type": "execute_result"
    },
    {
     "data": {
      "image/png": "[encoded data removed]",
      "text/plain": [
       "<Figure size 432x288 with 1 Axes>"
      ]
     },
     "metadata": {},
     "output_type": "display_data"
    }
   ],
   "source": [
    "xVals, yVals = [], []\n",
    "mu, sigma = 0, 1\n",
    "x = -4\n",
    "while x <= 4:\n",
    "    xVals.append(x)\n",
    "    yVals.append(gaussian(x, mu, sigma))\n",
    "    x += 0.05\n",
    "pylab.plot(xVals, yVals)\n",
    "pylab.title('Normal Distribution, mu = ' + str(mu)\\\n",
    "            + ', sigma = ' + str(sigma))"
   ]
  },
  {
   "cell_type": "code",
   "execution_count": 12,
   "metadata": {},
   "outputs": [],
   "source": [
    "import scipy.integrate\n",
    "\n",
    "def checkEmpirical(numTrials):\n",
    "  for t in range(numTrials):\n",
    "     mu = random.randint(-10, 10)\n",
    "     sigma = random.randint(1, 10)\n",
    "     print('For mu =', mu, 'and sigma =', sigma)\n",
    "     for numStd in (1, 1.96, 3):\n",
    "        area = scipy.integrate.quad(gaussian,\n",
    "                                    mu-numStd*sigma,\n",
    "                                    mu+numStd*sigma,\n",
    "                                    (mu, sigma))[0]\n",
    "        print(' Fraction within', numStd,\n",
    "              'std =', round(area, 4))"
   ]
  },
  {
   "cell_type": "code",
   "execution_count": 13,
   "metadata": {},
   "outputs": [
    {
     "name": "stdout",
     "output_type": "stream",
     "text": [
      "For mu = 4 and sigma = 10\n",
      " Fraction within 1 std = 0.6827\n",
      " Fraction within 1.96 std = 0.95\n",
      " Fraction within 3 std = 0.9973\n",
      "For mu = -7 and sigma = 6\n",
      " Fraction within 1 std = 0.6827\n",
      " Fraction within 1.96 std = 0.95\n",
      " Fraction within 3 std = 0.9973\n",
      "For mu = -2 and sigma = 9\n",
      " Fraction within 1 std = 0.6827\n",
      " Fraction within 1.96 std = 0.95\n",
      " Fraction within 3 std = 0.9973\n"
     ]
    }
   ],
   "source": [
    "checkEmpirical(3)"
   ]
  },
  {
   "cell_type": "code",
   "execution_count": 14,
   "metadata": {},
   "outputs": [
    {
     "name": "stdout",
     "output_type": "stream",
     "text": [
      "Mean of rolling 1 die = 2.498756875768418, Std = 1.4433018399078341\n",
      "Mean of rolling 50 dice = 2.499870295810377, Std = 0.2029638516487054\n"
     ]
    },
    {
     "data": {
      "text/plain": [
       "<matplotlib.legend.Legend at 0x25667f08080>"
      ]
     },
     "execution_count": 14,
     "metadata": {},
     "output_type": "execute_result"
    },
    {
     "data": {
      "image/png": "[encoded data removed]",
      "text/plain": [
       "<Figure size 432x288 with 1 Axes>"
      ]
     },
     "metadata": {},
     "output_type": "display_data"
    }
   ],
   "source": [
    "#Test CLT\n",
    "def plotMeans(numDice, numRolls, numBins, legend, color, style):\n",
    "    means = []\n",
    "    for i in range(numRolls//numDice):\n",
    "        vals = 0\n",
    "        for j in range(numDice):\n",
    "            vals += 5*random.random() \n",
    "        means.append(vals/float(numDice))\n",
    "    pylab.hist(means, numBins, color = color, label = legend,\n",
    "               weights = [1/len(means)]*len(means),\n",
    "               hatch = style)\n",
    "    return getMeanAndStd(means)\n",
    " \n",
    "mean, std = plotMeans(1, 1000000, 19, '1 die', 'b', '*')\n",
    "print('Mean of rolling 1 die =', str(mean) + ',', 'Std =', std)\n",
    "mean, std = plotMeans(50, 1000000, 19, 'Mean of 50 dice', 'r', '//')\n",
    "print('Mean of rolling 50 dice =', str(mean) + ',', 'Std =', std)\n",
    "pylab.title('Rolling Continuous Dice')\n",
    "pylab.xlabel('Value')\n",
    "pylab.ylabel('Probability')\n",
    "pylab.legend()"
   ]
  },
  {
   "cell_type": "code",
   "execution_count": 15,
   "metadata": {},
   "outputs": [
    {
     "data": {
      "text/plain": [
       "Text(0.5,1,'Expected Return Betting a Pocket 200 Times')"
      ]
     },
     "execution_count": 15,
     "metadata": {},
     "output_type": "execute_result"
    },
    {
     "data": {
      "image/png": "[encoded data removed]",
      "text/plain": [
       "<Figure size 432x288 with 1 Axes>"
      ]
     },
     "metadata": {},
     "output_type": "display_data"
    }
   ],
   "source": [
    "# Test CLT\n",
    "numTrials = 1000000\n",
    "numSpins = 200\n",
    "game = FairRoulette()\n",
    "\n",
    "means = []\n",
    "for i in range(numTrials):\n",
    "    means.append(findPocketReturn(game, 1, numSpins,\n",
    "                                  False)[0])\n",
    "\n",
    "pylab.hist(means, bins = 19,\n",
    "           weights = [1/len(means)]*len(means))\n",
    "pylab.xlabel('Mean Return')\n",
    "pylab.ylabel('Probability')\n",
    "pylab.title('Expected Return Betting a Pocket 200 Times')"
   ]
  },
  {
   "cell_type": "code",
   "execution_count": 16,
   "metadata": {},
   "outputs": [],
   "source": [
    "def throwNeedles(numNeedles):\n",
    "    inCircle = 0\n",
    "    for Needles in range(1, numNeedles + 1, 1):\n",
    "        x = random.random()\n",
    "        y = random.random()\n",
    "        if (x*x + y*y)**0.5 <= 1.0:\n",
    "            inCircle += 1\n",
    "    return 2*(inCircle/float(numNeedles))\n",
    "    \n",
    "def getEst(numNeedles, numTrials):\n",
    "    estimates = []\n",
    "    for t in range(numTrials):\n",
    "        piGuess = throwNeedles(numNeedles)\n",
    "        estimates.append(piGuess)\n",
    "    sDev = numpy.std(estimates)\n",
    "    curEst = sum(estimates)/len(estimates)\n",
    "    print('Est. = ' + str(curEst) +\\\n",
    "          ', Std. dev. = ' + str(round(sDev, 6))\\\n",
    "          + ', Needles = ' + str(numNeedles))\n",
    "    return (curEst, sDev)\n",
    "\n",
    "def estPi(precision, numTrials):\n",
    "    numNeedles = 1000\n",
    "    sDev = precision\n",
    "    while sDev >= precision/2:\n",
    "        curEst, sDev = getEst(numNeedles,\n",
    "                              numTrials)\n",
    "        numNeedles *= 2\n",
    "    return curEst"
   ]
  },
  {
   "cell_type": "code",
   "execution_count": 17,
   "metadata": {},
   "outputs": [
    {
     "name": "stdout",
     "output_type": "stream",
     "text": [
      "Est. = 1.5742200000000006, Std. dev. = 0.023943, Needles = 1000\n",
      "Est. = 1.5695899999999994, Std. dev. = 0.017748, Needles = 2000\n",
      "Est. = 1.5705399999999998, Std. dev. = 0.013565, Needles = 4000\n",
      "Est. = 1.5707175, Std. dev. = 0.008402, Needles = 8000\n",
      "Est. = 1.5706775, Std. dev. = 0.00685, Needles = 16000\n",
      "Est. = 1.5706568750000003, Std. dev. = 0.004238, Needles = 32000\n",
      "Est. = 1.5705859374999995, Std. dev. = 0.003514, Needles = 64000\n",
      "Est. = 1.5707948437499997, Std. dev. = 0.002017, Needles = 128000\n"
     ]
    },
    {
     "data": {
      "text/plain": [
       "1.5707948437499997"
      ]
     },
     "execution_count": 17,
     "metadata": {},
     "output_type": "execute_result"
    }
   ],
   "source": [
    "random.seed(0)\n",
    "estPi(0.005, 100)"
   ]
  },
  {
   "cell_type": "code",
   "execution_count": null,
   "metadata": {},
   "outputs": [],
   "source": []
  }
 ],
 "metadata": {
  "kernelspec": {
   "display_name": "Python 3",
   "language": "python",
   "name": "python3"
  },
  "language_info": {
   "codemirror_mode": {
    "name": "ipython",
    "version": 3
   },
   "file_extension": ".py",
   "mimetype": "text/x-python",
   "name": "python",
   "nbconvert_exporter": "python",
   "pygments_lexer": "ipython3",
   "version": "3.5.5"
  }
 },
 "nbformat": 4,
 "nbformat_minor": 2
}
