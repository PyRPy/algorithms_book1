{
 "cells": [
  {
   "cell_type": "code",
   "execution_count": 1,
   "metadata": {},
   "outputs": [],
   "source": [
    "# Chapter 19 Employing Linear Programming"
   ]
  },
  {
   "cell_type": "code",
   "execution_count": 12,
   "metadata": {},
   "outputs": [],
   "source": [
    "# Optimizing production and revenue"
   ]
  },
  {
   "cell_type": "code",
   "execution_count": 2,
   "metadata": {},
   "outputs": [],
   "source": [
    "import numpy as np\n",
    "import matplotlib.pyplot as plt\n",
    "import pulp\n",
    "\n",
    "%matplotlib inline\n",
    "\n",
    "res_1 = {'A':2, 'B':3, 't':30, 'n':2}\n",
    "res_2 = {'A':3, 'B':2, 't':30, 'n':2}\n",
    "res_3 = {'A':3, 'B':3, 't':22, 'n':3}\n",
    "res = {'res_1':res_1, 'res_2':res_2, 'res_3':res_3}\n",
    "profit_A = 3000\n",
    "profit_B = 2500"
   ]
  },
  {
   "cell_type": "code",
   "execution_count": null,
   "metadata": {},
   "outputs": [],
   "source": []
  },
  {
   "cell_type": "code",
   "execution_count": 3,
   "metadata": {},
   "outputs": [
    {
     "data": {
      "image/png": "[encoded data removed]",
      "text/plain": [
       "<Figure size 432x288 with 1 Axes>"
      ]
     },
     "metadata": {},
     "output_type": "display_data"
    }
   ],
   "source": [
    "a = np.linspace(0, 30, 30)\n",
    "c1 = ((res['res_1']['t'] * res['res_1']['n'])-\n",
    "      res['res_1']['A']*a) / res['res_1']['B']\n",
    "c2 = ((res['res_2']['t'] * res['res_2']['n'])-\n",
    "      res['res_2']['A']*a) / res['res_2']['B']\n",
    "c3 = ((res['res_3']['t'] * res['res_3']['n'])-\n",
    "      res['res_3']['A']*a) / res['res_3']['B']\n",
    "\n",
    "plt.plot(a, c1, label='constrain #1')\n",
    "plt.plot(a, c2, label='constrain #2')\n",
    "plt.plot(a, c3, label='constrain #3')\n",
    "\n",
    "axes = plt.gca()\n",
    "axes.set_xlim([0,30])\n",
    "axes.set_ylim([0,30])\n",
    "plt.xlabel('qty model A')\n",
    "plt.ylabel('qty model B')\n",
    "\n",
    "border = np.array((c1,c2,c3)).min(axis=0)\n",
    "\n",
    "plt.fill_between(a, border, color='yellow', alpha=0.5)\n",
    "plt.scatter(*zip(*[(0,0), (20,0),\n",
    "                   (0,20), (16,6), (6,16)]))\n",
    "plt.legend()\n",
    "plt.show()"
   ]
  },
  {
   "cell_type": "markdown",
   "metadata": {},
   "source": [
    "According to the simplex method, the optimal solution is one of the five vertexes of the polygon (which are (0,0), (20,0), (0,20), (16,6), and (6,16))"
   ]
  },
  {
   "cell_type": "code",
   "execution_count": 5,
   "metadata": {},
   "outputs": [],
   "source": [
    "# Keep profits in variables instead"
   ]
  },
  {
   "cell_type": "code",
   "execution_count": 6,
   "metadata": {},
   "outputs": [],
   "source": [
    "# First, define the problem and call it model.\n",
    "model = pulp.LpProblem(\"Max profit\", pulp.LpMaximize)\n",
    "A = pulp.LpVariable('A', lowBound=0)\n",
    "B = pulp.LpVariable('B', lowBound=0)"
   ]
  },
  {
   "cell_type": "code",
   "execution_count": 7,
   "metadata": {},
   "outputs": [],
   "source": [
    "# add the objective function by summing the sum of the two variables\n",
    "model += profit_A * A + profit_B * B"
   ]
  },
  {
   "cell_type": "code",
   "execution_count": 8,
   "metadata": {},
   "outputs": [],
   "source": [
    "# add the constraints, in exactly the same way as the objective function\n",
    "model += res['res_1']['A'] * A + res['res_1']['B'\n",
    "            ] * B <= res['res_1']['t'] * res['res_1']['n']\n",
    "model += res['res_2']['A'] * A + res['res_2']['B'\n",
    "            ] * B <= res['res_2']['t'] * res['res_2']['n']\n",
    "model += res['res_3']['A'] * A + res['res_3']['B'\n",
    "            ] * B <= res['res_3']['t'] * res['res_3']['n']"
   ]
  },
  {
   "cell_type": "code",
   "execution_count": 9,
   "metadata": {},
   "outputs": [
    {
     "name": "stdout",
     "output_type": "stream",
     "text": [
      "Completion status: Optimal\n"
     ]
    }
   ],
   "source": [
    "# Call the solve method and then check its status\n",
    "model.solve()\n",
    "print ('Completion status: %s'\n",
    "       % pulp.LpStatus[model.status])"
   ]
  },
  {
   "cell_type": "code",
   "execution_count": 10,
   "metadata": {},
   "outputs": [
    {
     "name": "stdout",
     "output_type": "stream",
     "text": [
      "Production of model A = 16.0\n",
      "Production of model B = 6.0\n"
     ]
    }
   ],
   "source": [
    "# print the related quantities of product A and B.\n",
    "print (\"Production of model A = %0.1f\" % A.varValue)\n",
    "print (\"Production of model B = %0.1f\" % B.varValue)"
   ]
  },
  {
   "cell_type": "code",
   "execution_count": 11,
   "metadata": {},
   "outputs": [
    {
     "name": "stdout",
     "output_type": "stream",
     "text": [
      "Maximum profit achieved: 63000.0\n"
     ]
    }
   ],
   "source": [
    "# print the resulting total profit achievable by this solution\n",
    "print ('Maximum profit achieved: %0.1f'\n",
    "       % pulp.value(model.objective))"
   ]
  },
  {
   "cell_type": "code",
   "execution_count": 13,
   "metadata": {},
   "outputs": [],
   "source": [
    "# https://www.dummies.com/store/product/Algorithms-For-Dummies.productCd-1119330491,navId-322493,descCd-DOWNLOAD.html"
   ]
  }
 ],
 "metadata": {
  "kernelspec": {
   "display_name": "Python 3",
   "language": "python",
   "name": "python3"
  },
  "language_info": {
   "codemirror_mode": {
    "name": "ipython",
    "version": 3
   },
   "file_extension": ".py",
   "mimetype": "text/x-python",
   "name": "python",
   "nbconvert_exporter": "python",
   "pygments_lexer": "ipython3",
   "version": "3.6.5"
  }
 },
 "nbformat": 4,
 "nbformat_minor": 2
}
