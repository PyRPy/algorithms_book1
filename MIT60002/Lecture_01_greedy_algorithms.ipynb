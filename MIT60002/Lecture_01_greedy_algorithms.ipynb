{
 "cells": [
  {
   "cell_type": "code",
   "execution_count": 1,
   "metadata": {},
   "outputs": [],
   "source": [
    "# lecture 1 code demo\n",
    "# https://ocw.mit.edu/courses/electrical-engineering-and-computer-science/6-0002-introduction-to-computational-thinking-and-data-science-fall-2016/lecture-slides-and-files/"
   ]
  },
  {
   "cell_type": "code",
   "execution_count": 2,
   "metadata": {},
   "outputs": [],
   "source": [
    "class Food(object):\n",
    "    def __init__(self, n, v, w):\n",
    "        self.name = n\n",
    "        self.value = v\n",
    "        self.calories = w\n",
    "    def getValue(self):\n",
    "        return self.value\n",
    "    def getCost(self):\n",
    "        return self.calories\n",
    "    def density(self):\n",
    "        return self.getValue()/self.getCost()\n",
    "    def __str__(self):\n",
    "        return self.name + ': <' + str(self.value)\\\n",
    "                 + ', ' + str(self.calories) + '>'"
   ]
  },
  {
   "cell_type": "code",
   "execution_count": 3,
   "metadata": {},
   "outputs": [],
   "source": [
    "def buildMenu(names, values, calories):\n",
    "    menu = []\n",
    "    for i in range(len(values)):\n",
    "        menu.append(Food(names[i], values[i],\n",
    "                          calories[i]))\n",
    "    return menu"
   ]
  },
  {
   "cell_type": "code",
   "execution_count": 4,
   "metadata": {},
   "outputs": [],
   "source": [
    "def greedy(items, maxCost, keyFunction):\n",
    "    \"\"\"Assumes items a list, maxCost >= 0,\n",
    "         keyFunction maps elements of Items to numbers\"\"\"\n",
    "    itemsCopy = sorted(items, key = keyFunction,\n",
    "                       reverse = True)\n",
    "    result = []\n",
    "    totalValue, totalCost = 0.0, 0.0\n",
    "    for i in range(len(itemsCopy)):\n",
    "        if (totalCost+itemsCopy[i].getCost()) <= maxCost:\n",
    "            result.append(itemsCopy[i])\n",
    "            totalCost += itemsCopy[i].getCost()\n",
    "            totalValue += itemsCopy[i].getValue()\n",
    "    return (result, totalValue)"
   ]
  },
  {
   "cell_type": "code",
   "execution_count": 5,
   "metadata": {},
   "outputs": [],
   "source": [
    "def testGreedy(items, constraint, keyFunction):\n",
    "    taken, val = greedy(items, constraint, keyFunction)\n",
    "    print('Total value of items taken =', val)\n",
    "    for item in taken:\n",
    "        print('   ', item)"
   ]
  },
  {
   "cell_type": "code",
   "execution_count": 6,
   "metadata": {},
   "outputs": [],
   "source": [
    "def testGreedys(foods, maxUnits):\n",
    "    print('Use greedy by value to allocate', maxUnits,\n",
    "          'calories')\n",
    "    testGreedy(foods, maxUnits, Food.getValue)\n",
    "    print('\\nUse greedy by cost to allocate', maxUnits,\n",
    "          'calories')\n",
    "    testGreedy(foods, maxUnits,\n",
    "               lambda x: 1/Food.getCost(x))\n",
    "    print('\\nUse greedy by density to allocate', maxUnits,\n",
    "          'calories')\n",
    "    testGreedy(foods, maxUnits, Food.density)"
   ]
  },
  {
   "cell_type": "code",
   "execution_count": 7,
   "metadata": {},
   "outputs": [],
   "source": [
    "def maxVal(toConsider, avail):\n",
    "    \"\"\"Assumes toConsider a list of items, avail a weight\n",
    "       Returns a tuple of the total value of a solution to the\n",
    "         0/1 knapsack problem and the items of that solution\"\"\"\n",
    "    if toConsider == [] or avail == 0:\n",
    "        result = (0, ())\n",
    "    elif toConsider[0].getCost() > avail:\n",
    "        #Explore right branch only\n",
    "        result = maxVal(toConsider[1:], avail)\n",
    "    else:\n",
    "        nextItem = toConsider[0]\n",
    "        #Explore left branch\n",
    "        withVal, withToTake = maxVal(toConsider[1:],\n",
    "                                     avail - nextItem.getCost())\n",
    "        withVal += nextItem.getValue()\n",
    "        #Explore right branch\n",
    "        withoutVal, withoutToTake = maxVal(toConsider[1:], avail)\n",
    "        #Choose better branch\n",
    "        if withVal > withoutVal:\n",
    "            result = (withVal, withToTake + (nextItem,))\n",
    "        else:\n",
    "            result = (withoutVal, withoutToTake)\n",
    "    return result"
   ]
  },
  {
   "cell_type": "code",
   "execution_count": 8,
   "metadata": {},
   "outputs": [],
   "source": [
    "def testMaxVal(foods, maxUnits, printItems = True):\n",
    "    print('Use search tree to allocate', maxUnits,\n",
    "          'calories')\n",
    "    val, taken = maxVal(foods, maxUnits)\n",
    "    print('Total value of items taken =', val)\n",
    "    if printItems:\n",
    "        for item in taken:\n",
    "            print('   ', item)"
   ]
  },
  {
   "cell_type": "code",
   "execution_count": 9,
   "metadata": {},
   "outputs": [],
   "source": [
    "names = ['wine', 'beer', 'pizza', 'burger', 'fries',\n",
    "         'cola', 'apple', 'donut', 'cake']\n",
    "values = [89,90,95,100,90,79,50,10]\n",
    "calories = [123,154,258,354,365,150,95,195]\n",
    "foods = buildMenu(names, values, calories)"
   ]
  },
  {
   "cell_type": "code",
   "execution_count": 16,
   "metadata": {},
   "outputs": [
    {
     "name": "stdout",
     "output_type": "stream",
     "text": [
      "wine: <89, 123>\n",
      "beer: <90, 154>\n",
      "pizza: <95, 258>\n",
      "burger: <100, 354>\n",
      "fries: <90, 365>\n",
      "cola: <79, 150>\n",
      "apple: <50, 95>\n",
      "donut: <10, 195>\n"
     ]
    }
   ],
   "source": [
    "# print list\n",
    "for item in foods:\n",
    "    print(item)"
   ]
  },
  {
   "cell_type": "code",
   "execution_count": 19,
   "metadata": {},
   "outputs": [
    {
     "data": {
      "text/plain": [
       "[<__main__.Food at 0x1e8729df0b8>,\n",
       " <__main__.Food at 0x1e8729df748>,\n",
       " <__main__.Food at 0x1e8729dfd68>,\n",
       " <__main__.Food at 0x1e8729dffd0>,\n",
       " <__main__.Food at 0x1e8729dfda0>,\n",
       " <__main__.Food at 0x1e8729dfa58>,\n",
       " <__main__.Food at 0x1e8729df978>,\n",
       " <__main__.Food at 0x1e8729df400>]"
      ]
     },
     "execution_count": 19,
     "metadata": {},
     "output_type": "execute_result"
    }
   ],
   "source": [
    "foods"
   ]
  },
  {
   "cell_type": "code",
   "execution_count": null,
   "metadata": {},
   "outputs": [],
   "source": []
  },
  {
   "cell_type": "code",
   "execution_count": 14,
   "metadata": {},
   "outputs": [
    {
     "name": "stdout",
     "output_type": "stream",
     "text": [
      "Use greedy by value to allocate 750 calories\n",
      "Total value of items taken = 284.0\n",
      "    burger: <100, 354>\n",
      "    pizza: <95, 258>\n",
      "    wine: <89, 123>\n",
      "\n",
      "Use greedy by cost to allocate 750 calories\n",
      "Total value of items taken = 318.0\n",
      "    apple: <50, 95>\n",
      "    wine: <89, 123>\n",
      "    cola: <79, 150>\n",
      "    beer: <90, 154>\n",
      "    donut: <10, 195>\n",
      "\n",
      "Use greedy by density to allocate 750 calories\n",
      "Total value of items taken = 318.0\n",
      "    wine: <89, 123>\n",
      "    beer: <90, 154>\n",
      "    cola: <79, 150>\n",
      "    apple: <50, 95>\n",
      "    donut: <10, 195>\n"
     ]
    }
   ],
   "source": [
    "testGreedys(foods, 750)"
   ]
  },
  {
   "cell_type": "code",
   "execution_count": 15,
   "metadata": {},
   "outputs": [
    {
     "name": "stdout",
     "output_type": "stream",
     "text": [
      "Use search tree to allocate 750 calories\n",
      "Total value of items taken = 353\n",
      "    cola: <79, 150>\n",
      "    pizza: <95, 258>\n",
      "    beer: <90, 154>\n",
      "    wine: <89, 123>\n"
     ]
    }
   ],
   "source": [
    "testMaxVal(foods, 750)"
   ]
  },
  {
   "cell_type": "code",
   "execution_count": null,
   "metadata": {},
   "outputs": [],
   "source": [
    "# define a large menu"
   ]
  },
  {
   "cell_type": "code",
   "execution_count": 20,
   "metadata": {},
   "outputs": [],
   "source": [
    "import random"
   ]
  },
  {
   "cell_type": "code",
   "execution_count": 21,
   "metadata": {},
   "outputs": [],
   "source": [
    "def buildLargeMenu(numItems, maxVal, maxCost):\n",
    "    items = []\n",
    "    for i in range(numItems):\n",
    "        items.append(Food(str(i),\n",
    "                          random.randint(1, maxVal),\n",
    "                          random.randint(1, maxCost)))\n",
    "    return items\n",
    "\n",
    "#for numItems in (5, 10, 15, 20, 25, 30, 35, 40, 45):\n",
    "#    print('Try a menu with', numItems, 'items')\n",
    "#    items = buildLargeMenu(numItems, 90, 250)\n",
    "#    testMaxVal(items, 750, False)  "
   ]
  },
  {
   "cell_type": "code",
   "execution_count": 23,
   "metadata": {},
   "outputs": [],
   "source": [
    "def fib(n):\n",
    "    if n == 0 or n == 1:\n",
    "        return 1\n",
    "    else:\n",
    "        return fib(n - 1) + fib(n - 2)"
   ]
  },
  {
   "cell_type": "code",
   "execution_count": 25,
   "metadata": {},
   "outputs": [
    {
     "name": "stdout",
     "output_type": "stream",
     "text": [
      "fib(0) = 1\n",
      "fib(1) = 1\n",
      "fib(2) = 2\n",
      "fib(3) = 3\n",
      "fib(4) = 5\n",
      "fib(5) = 8\n",
      "fib(6) = 13\n",
      "fib(7) = 21\n",
      "fib(8) = 34\n",
      "fib(9) = 55\n",
      "fib(10) = 89\n",
      "fib(11) = 144\n",
      "fib(12) = 233\n",
      "fib(13) = 377\n",
      "fib(14) = 610\n",
      "fib(15) = 987\n",
      "fib(16) = 1597\n",
      "fib(17) = 2584\n",
      "fib(18) = 4181\n",
      "fib(19) = 6765\n",
      "fib(20) = 10946\n",
      "fib(21) = 17711\n",
      "fib(22) = 28657\n",
      "fib(23) = 46368\n",
      "fib(24) = 75025\n",
      "fib(25) = 121393\n",
      "fib(26) = 196418\n",
      "fib(27) = 317811\n",
      "fib(28) = 514229\n",
      "fib(29) = 832040\n",
      "fib(30) = 1346269\n",
      "fib(31) = 2178309\n",
      "fib(32) = 3524578\n",
      "fib(33) = 5702887\n",
      "fib(34) = 9227465\n",
      "fib(35) = 14930352\n",
      "fib(36) = 24157817\n",
      "fib(37) = 39088169\n",
      "fib(38) = 63245986\n",
      "fib(39) = 102334155\n"
     ]
    }
   ],
   "source": [
    "for i in range(40):\n",
    "    print('fib(' + str(i) + ') =', fib(i))"
   ]
  },
  {
   "cell_type": "code",
   "execution_count": 26,
   "metadata": {},
   "outputs": [],
   "source": [
    "def fastFib(n, memo = {}):\n",
    "    \"\"\"Assumes n is an int >= 0, memo used only by recursive calls\n",
    "       Returns Fibonacci of n\"\"\"\n",
    "    if n == 0 or n == 1:\n",
    "        return 1\n",
    "    try:\n",
    "        return memo[n]\n",
    "    except KeyError:\n",
    "        result = fastFib(n-1, memo) + fastFib(n-2, memo)\n",
    "        memo[n] = result\n",
    "        return result"
   ]
  },
  {
   "cell_type": "code",
   "execution_count": 28,
   "metadata": {},
   "outputs": [
    {
     "name": "stdout",
     "output_type": "stream",
     "text": [
      "fib(0) = 1\n",
      "fib(1) = 1\n",
      "fib(2) = 2\n",
      "fib(3) = 3\n",
      "fib(4) = 5\n",
      "fib(5) = 8\n",
      "fib(6) = 13\n",
      "fib(7) = 21\n",
      "fib(8) = 34\n",
      "fib(9) = 55\n",
      "fib(10) = 89\n",
      "fib(11) = 144\n",
      "fib(12) = 233\n",
      "fib(13) = 377\n",
      "fib(14) = 610\n",
      "fib(15) = 987\n",
      "fib(16) = 1597\n",
      "fib(17) = 2584\n",
      "fib(18) = 4181\n",
      "fib(19) = 6765\n",
      "fib(20) = 10946\n",
      "fib(21) = 17711\n",
      "fib(22) = 28657\n",
      "fib(23) = 46368\n",
      "fib(24) = 75025\n",
      "fib(25) = 121393\n",
      "fib(26) = 196418\n",
      "fib(27) = 317811\n",
      "fib(28) = 514229\n",
      "fib(29) = 832040\n",
      "fib(30) = 1346269\n",
      "fib(31) = 2178309\n",
      "fib(32) = 3524578\n",
      "fib(33) = 5702887\n",
      "fib(34) = 9227465\n",
      "fib(35) = 14930352\n",
      "fib(36) = 24157817\n",
      "fib(37) = 39088169\n",
      "fib(38) = 63245986\n",
      "fib(39) = 102334155\n"
     ]
    }
   ],
   "source": [
    "for i in range(40):\n",
    "    print('fib(' + str(i) + ') =', fastFib(i))"
   ]
  },
  {
   "cell_type": "code",
   "execution_count": 29,
   "metadata": {},
   "outputs": [],
   "source": [
    "def fastMaxVal(toConsider, avail, memo = {}):\n",
    "    \"\"\"Assumes toConsider a list of subjects, avail a weight\n",
    "         memo supplied by recursive calls\n",
    "       Returns a tuple of the total value of a solution to the\n",
    "         0/1 knapsack problem and the subjects of that solution\"\"\"\n",
    "    if (len(toConsider), avail) in memo:\n",
    "        result = memo[(len(toConsider), avail)]\n",
    "    elif toConsider == [] or avail == 0:\n",
    "        result = (0, ())\n",
    "    elif toConsider[0].getCost() > avail:\n",
    "        #Explore right branch only\n",
    "        result = fastMaxVal(toConsider[1:], avail, memo)\n",
    "    else:\n",
    "        nextItem = toConsider[0]\n",
    "        #Explore left branch\n",
    "        withVal, withToTake =\\\n",
    "                 fastMaxVal(toConsider[1:],\n",
    "                            avail - nextItem.getCost(), memo)\n",
    "        withVal += nextItem.getValue()\n",
    "        #Explore right branch\n",
    "        withoutVal, withoutToTake = fastMaxVal(toConsider[1:],\n",
    "                                                avail, memo)\n",
    "        #Choose better branch\n",
    "        if withVal > withoutVal:\n",
    "            result = (withVal, withToTake + (nextItem,))\n",
    "        else:\n",
    "            result = (withoutVal, withoutToTake)\n",
    "    memo[(len(toConsider), avail)] = result\n",
    "    return result"
   ]
  },
  {
   "cell_type": "code",
   "execution_count": 30,
   "metadata": {},
   "outputs": [],
   "source": [
    "def testMaxVal(foods, maxUnits, algorithm, printItems = True):\n",
    "    print('Menu contains', len(foods), 'items')\n",
    "    print('Use search tree to allocate', maxUnits,\n",
    "          'calories')\n",
    "    val, taken = algorithm(foods, maxUnits)\n",
    "    if printItems:\n",
    "        print('Total value of items taken =', val)\n",
    "        for item in taken:\n",
    "            print('   ', item)"
   ]
  },
  {
   "cell_type": "code",
   "execution_count": 31,
   "metadata": {},
   "outputs": [
    {
     "name": "stdout",
     "output_type": "stream",
     "text": [
      "Menu contains 5 items\n",
      "Use search tree to allocate 750 calories\n",
      "Total value of items taken = 169\n",
      "    4: <37, 191>\n",
      "    3: <45, 236>\n",
      "    1: <74, 164>\n",
      "    0: <13, 55>\n",
      "Menu contains 10 items\n",
      "Use search tree to allocate 750 calories\n",
      "Total value of items taken = 335\n",
      "    7: <75, 157>\n",
      "    6: <41, 80>\n",
      "    5: <27, 90>\n",
      "    4: <59, 173>\n",
      "    3: <24, 51>\n",
      "    1: <55, 171>\n",
      "    0: <54, 27>\n",
      "Menu contains 15 items\n",
      "Use search tree to allocate 750 calories\n",
      "Total value of items taken = 398\n",
      "    9: <64, 183>\n",
      "    7: <75, 157>\n",
      "    11: <84, 13>\n",
      "    5: <84, 237>\n",
      "    2: <57, 58>\n",
      "    0: <34, 35>\n",
      "Menu contains 20 items\n",
      "Use search tree to allocate 750 calories\n",
      "Total value of items taken = 533\n",
      "    11: <84, 13>\n",
      "    15: <88, 157>\n",
      "    11: <75, 95>\n",
      "    6: <12, 38>\n",
      "    4: <65, 185>\n",
      "    3: <64, 48>\n",
      "    2: <77, 132>\n",
      "    0: <68, 24>\n",
      "Menu contains 25 items\n",
      "Use search tree to allocate 750 calories\n",
      "Total value of items taken = 569\n",
      "    9: <64, 183>\n",
      "    11: <84, 13>\n",
      "    11: <75, 95>\n",
      "    15: <83, 77>\n",
      "    14: <65, 39>\n",
      "    13: <85, 161>\n",
      "    8: <71, 120>\n",
      "    5: <28, 47>\n",
      "    4: <14, 5>\n",
      "Menu contains 30 items\n",
      "Use search tree to allocate 750 calories\n",
      "Total value of items taken = 669\n",
      "    11: <84, 13>\n",
      "    11: <75, 95>\n",
      "    15: <83, 77>\n",
      "    14: <65, 39>\n",
      "    13: <85, 161>\n",
      "    15: <30, 12>\n",
      "    14: <56, 136>\n",
      "    9: <56, 20>\n",
      "    4: <48, 68>\n",
      "    2: <87, 127>\n",
      "Menu contains 35 items\n",
      "Use search tree to allocate 750 calories\n",
      "Total value of items taken = 669\n",
      "    11: <84, 13>\n",
      "    11: <75, 95>\n",
      "    15: <83, 77>\n",
      "    14: <65, 39>\n",
      "    13: <85, 161>\n",
      "    15: <30, 12>\n",
      "    14: <56, 136>\n",
      "    9: <56, 20>\n",
      "    4: <48, 68>\n",
      "    2: <87, 127>\n",
      "Menu contains 40 items\n",
      "Use search tree to allocate 750 calories\n",
      "Total value of items taken = 814\n",
      "    11: <84, 13>\n",
      "    11: <75, 95>\n",
      "    15: <83, 77>\n",
      "    14: <65, 39>\n",
      "    13: <85, 161>\n",
      "    15: <30, 12>\n",
      "    14: <56, 136>\n",
      "    9: <56, 20>\n",
      "    17: <83, 43>\n",
      "    10: <69, 3>\n",
      "    8: <33, 22>\n",
      "    6: <79, 76>\n",
      "    3: <16, 51>\n",
      "Menu contains 45 items\n",
      "Use search tree to allocate 750 calories\n",
      "Total value of items taken = 826\n",
      "    14: <12, 52>\n",
      "    11: <84, 13>\n",
      "    11: <75, 95>\n",
      "    15: <83, 77>\n",
      "    14: <65, 39>\n",
      "    15: <30, 12>\n",
      "    9: <56, 20>\n",
      "    12: <48, 11>\n",
      "    11: <67, 112>\n",
      "    10: <69, 3>\n",
      "    8: <33, 22>\n",
      "    12: <60, 17>\n",
      "    7: <64, 111>\n",
      "    2: <80, 143>\n",
      "Menu contains 50 items\n",
      "Use search tree to allocate 750 calories\n",
      "Total value of items taken = 838\n",
      "    11: <84, 13>\n",
      "    11: <75, 95>\n",
      "    15: <83, 77>\n",
      "    14: <65, 39>\n",
      "    17: <38, 133>\n",
      "    9: <56, 20>\n",
      "    17: <83, 43>\n",
      "    10: <69, 3>\n",
      "    9: <59, 55>\n",
      "    8: <33, 22>\n",
      "    6: <79, 76>\n",
      "    2: <86, 162>\n",
      "    1: <28, 10>\n"
     ]
    }
   ],
   "source": [
    "for numItems in (5, 10, 15, 20, 25, 30, 35, 40, 45, 50):\n",
    "    items = buildLargeMenu(numItems, 90, 250)\n",
    "    testMaxVal(items, 750, fastMaxVal, True)"
   ]
  },
  {
   "cell_type": "code",
   "execution_count": null,
   "metadata": {},
   "outputs": [],
   "source": []
  }
 ],
 "metadata": {
  "kernelspec": {
   "display_name": "Python 3",
   "language": "python",
   "name": "python3"
  },
  "language_info": {
   "codemirror_mode": {
    "name": "ipython",
    "version": 3
   },
   "file_extension": ".py",
   "mimetype": "text/x-python",
   "name": "python",
   "nbconvert_exporter": "python",
   "pygments_lexer": "ipython3",
   "version": "3.5.5"
  }
 },
 "nbformat": 4,
 "nbformat_minor": 2
}
