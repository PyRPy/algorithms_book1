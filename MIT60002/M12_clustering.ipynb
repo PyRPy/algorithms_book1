{
 "cells": [
  {
   "cell_type": "code",
   "execution_count": null,
   "metadata": {},
   "outputs": [],
   "source": [
    "Lecture 12: Clustering"
   ]
  },
  {
   "cell_type": "code",
   "execution_count": 51,
   "metadata": {},
   "outputs": [],
   "source": [
    "import random, pylab, numpy\n",
    "import cluster"
   ]
  },
  {
   "cell_type": "code",
   "execution_count": 52,
   "metadata": {},
   "outputs": [],
   "source": [
    "class Patient(Example):  # don't need cluster anymore in notebook\n",
    "    pass"
   ]
  },
  {
   "cell_type": "code",
   "execution_count": 53,
   "metadata": {},
   "outputs": [],
   "source": [
    "def scaleAttrs(vals):\n",
    "    vals = pylab.array(vals)\n",
    "    mean = sum(vals)/len(vals)\n",
    "    sd = numpy.std(vals)\n",
    "    vals = vals - mean\n",
    "    return vals/sd"
   ]
  },
  {
   "cell_type": "code",
   "execution_count": 54,
   "metadata": {},
   "outputs": [],
   "source": [
    "def getData(toScale = False):\n",
    "    #read in data\n",
    "    hrList, stElevList, ageList, prevACSList, classList = [],[],[],[],[]\n",
    "    cardiacData = open('cardiacData.txt', 'r')\n",
    "    for l in cardiacData:\n",
    "        l = l.split(',')\n",
    "        hrList.append(int(l[0]))\n",
    "        stElevList.append(int(l[1]))\n",
    "        ageList.append(int(l[2]))\n",
    "        prevACSList.append(int(l[3]))\n",
    "        classList.append(int(l[4]))\n",
    "    if toScale:\n",
    "        hrList = scaleAttrs(hrList)\n",
    "        stElevList = scaleAttrs(stElevList)\n",
    "        ageList = scaleAttrs(ageList)\n",
    "        prevACSList = scaleAttrs(prevACSList)\n",
    "    #Build points\n",
    "    points = []\n",
    "    for i in range(len(hrList)):\n",
    "        features = pylab.array([hrList[i], prevACSList[i],\\\n",
    "                                stElevList[i], ageList[i]])\n",
    "        pIndex = str(i)\n",
    "        points.append(Patient('P'+ pIndex, features, classList[i]))\n",
    "    return points"
   ]
  },
  {
   "cell_type": "code",
   "execution_count": 55,
   "metadata": {},
   "outputs": [],
   "source": [
    "def kmeans(examples, k, verbose = False):\n",
    "    #Get k randomly chosen initial centroids, create cluster for each\n",
    "    initialCentroids = random.sample(examples, k)\n",
    "    clusters = []\n",
    "    for e in initialCentroids:\n",
    "        clusters.append(cluster.Cluster([e]))\n",
    "        \n",
    "    #Iterate until centroids do not change\n",
    "    converged = False\n",
    "    numIterations = 0\n",
    "    while not converged:\n",
    "        numIterations += 1\n",
    "        #Create a list containing k distinct empty lists\n",
    "        newClusters = []\n",
    "        for i in range(k):\n",
    "            newClusters.append([])\n",
    "            \n",
    "        #Associate each example with closest centroid\n",
    "        for e in examples:\n",
    "            #Find the centroid closest to e\n",
    "            smallestDistance = e.distance(clusters[0].getCentroid())\n",
    "            index = 0\n",
    "            for i in range(1, k):\n",
    "                distance = e.distance(clusters[i].getCentroid())\n",
    "                if distance < smallestDistance:\n",
    "                    smallestDistance = distance\n",
    "                    index = i\n",
    "            #Add e to the list of examples for appropriate cluster\n",
    "            newClusters[index].append(e)\n",
    "            \n",
    "        for c in newClusters: #Avoid having empty clusters\n",
    "            if len(c) == 0:\n",
    "                raise ValueError('Empty Cluster')\n",
    "        \n",
    "        #Update each cluster; check if a centroid has changed\n",
    "        converged = True\n",
    "        for i in range(k):\n",
    "            if clusters[i].update(newClusters[i]) > 0.0:\n",
    "                converged = False\n",
    "        if verbose:\n",
    "            print('Iteration #' + str(numIterations))\n",
    "            for c in clusters:\n",
    "                print(c)\n",
    "            print('') #add blank line\n",
    "    return clusters"
   ]
  },
  {
   "cell_type": "code",
   "execution_count": 56,
   "metadata": {},
   "outputs": [],
   "source": [
    "def trykmeans(examples, numClusters, numTrials, verbose = False):\n",
    "    \"\"\"Calls kmeans numTrials times and returns the result with the\n",
    "          lowest dissimilarity\"\"\"\n",
    "    best = kmeans(examples, numClusters, verbose)\n",
    "    minDissimilarity = cluster.dissimilarity(best)\n",
    "    trial = 1\n",
    "    while trial < numTrials:\n",
    "        try:\n",
    "            clusters = kmeans(examples, numClusters, verbose)\n",
    "        except ValueError:\n",
    "            continue #If failed, try again\n",
    "        currDissimilarity = cluster.dissimilarity(clusters)\n",
    "        if currDissimilarity < minDissimilarity:\n",
    "            best = clusters\n",
    "            minDissimilarity = currDissimilarity\n",
    "        trial += 1\n",
    "    return best"
   ]
  },
  {
   "cell_type": "code",
   "execution_count": 57,
   "metadata": {},
   "outputs": [],
   "source": [
    "def printClustering(clustering):\n",
    "    \"\"\"Assumes: clustering is a sequence of clusters\n",
    "       Prints information about each cluster\n",
    "       Returns list of fraction of pos cases in each cluster\"\"\"\n",
    "    posFracs = []\n",
    "    for c in clustering:\n",
    "        numPts = 0\n",
    "        numPos = 0\n",
    "        for p in c.members():\n",
    "            numPts += 1\n",
    "            if p.getLabel() == 1:\n",
    "                numPos += 1\n",
    "        fracPos = numPos/numPts\n",
    "        posFracs.append(fracPos)\n",
    "        print('Cluster of size', numPts, 'with fraction of positives =',\n",
    "              round(fracPos, 4))\n",
    "    return pylab.array(posFracs)"
   ]
  },
  {
   "cell_type": "code",
   "execution_count": 58,
   "metadata": {},
   "outputs": [],
   "source": [
    "def testClustering(patients, numClusters, seed = 0, numTrials = 5):\n",
    "    random.seed(seed)\n",
    "    bestClustering = trykmeans(patients, numClusters, numTrials)\n",
    "    posFracs = printClustering(bestClustering)\n",
    "    return posFracs"
   ]
  },
  {
   "cell_type": "code",
   "execution_count": 59,
   "metadata": {},
   "outputs": [],
   "source": [
    "patients = getData()"
   ]
  },
  {
   "cell_type": "code",
   "execution_count": 60,
   "metadata": {},
   "outputs": [
    {
     "name": "stdout",
     "output_type": "stream",
     "text": [
      "\n",
      "     Test k-means (k = 2)\n",
      "Cluster of size 118 with fraction of positives = 0.3305\n",
      "Cluster of size 132 with fraction of positives = 0.3333\n"
     ]
    }
   ],
   "source": [
    "for k in (2,):\n",
    "    print('\\n     Test k-means (k = ' + str(k) + ')')\n",
    "    posFracs = testClustering(patients, k, 2)"
   ]
  },
  {
   "cell_type": "code",
   "execution_count": 61,
   "metadata": {},
   "outputs": [
    {
     "name": "stdout",
     "output_type": "stream",
     "text": [
      "Total number of positive patients = 83\n"
     ]
    }
   ],
   "source": [
    "numPos = 0\n",
    "for p in patients:\n",
    "    if p.getLabel() == 1:\n",
    "        numPos += 1\n",
    "print('Total number of positive patients =', numPos)"
   ]
  }
 ],
 "metadata": {
  "kernelspec": {
   "display_name": "Python 3",
   "language": "python",
   "name": "python3"
  },
  "language_info": {
   "codemirror_mode": {
    "name": "ipython",
    "version": 3
   },
   "file_extension": ".py",
   "mimetype": "text/x-python",
   "name": "python",
   "nbconvert_exporter": "python",
   "pygments_lexer": "ipython3",
   "version": "3.6.5"
  }
 },
 "nbformat": 4,
 "nbformat_minor": 2
}
