{
 "cells": [
  {
   "cell_type": "code",
   "execution_count": 1,
   "metadata": {},
   "outputs": [],
   "source": [
    "# inversion example from CLRS"
   ]
  },
  {
   "cell_type": "code",
   "execution_count": 8,
   "metadata": {},
   "outputs": [],
   "source": [
    "import sys\n",
    "sys.setrecursionlimit(1500)"
   ]
  },
  {
   "cell_type": "code",
   "execution_count": 9,
   "metadata": {},
   "outputs": [],
   "source": [
    "def merge(items, p, q, r):\n",
    "    L = items[p:q+1]\n",
    "    R = items[q+1:r+1]\n",
    "    i = j = 0\n",
    "    k = p\n",
    "    inversions = 0\n",
    "    while i < len(L) and j < len(R):\n",
    "        if(L[i] < R[j]):\n",
    "            items[k] = L[i]\n",
    "            i += 1\n",
    "        else:\n",
    "            items[k] = R[j]\n",
    "            j += 1\n",
    "            inversions += (len(L) - i)\n",
    "        k += 1\n",
    "    if(j == len(R)):\n",
    "        items[k:r+1] = L[i:]\n",
    "    return inversions"
   ]
  },
  {
   "cell_type": "code",
   "execution_count": 10,
   "metadata": {},
   "outputs": [],
   "source": [
    "def mergesort(items, p, r):\n",
    "    inversions = 0\n",
    "    if(p < r):\n",
    "        q = (p+r)//2 # changed from '/' to '//'\n",
    "        inversions += mergesort(items, p, q)\n",
    "        inversions += mergesort(items, q+1, r)\n",
    "        inversions += merge(items, p, q, r)\n",
    "    return inversions"
   ]
  },
  {
   "cell_type": "code",
   "execution_count": 11,
   "metadata": {},
   "outputs": [
    {
     "name": "stdout",
     "output_type": "stream",
     "text": [
      "[1, 2, 3, 4, 17] 6\n"
     ]
    }
   ],
   "source": [
    "items = [4,3,2,1,17]\n",
    "inversions = mergesort(items, 0, len(items)-1)\n",
    "print (items,inversions)"
   ]
  },
  {
   "cell_type": "code",
   "execution_count": null,
   "metadata": {},
   "outputs": [],
   "source": [
    "# https://github.com/gzc/CLRS/tree/master/C02-Getting-Started/exercise_code"
   ]
  }
 ],
 "metadata": {
  "kernelspec": {
   "display_name": "Python 3",
   "language": "python",
   "name": "python3"
  },
  "language_info": {
   "codemirror_mode": {
    "name": "ipython",
    "version": 3
   },
   "file_extension": ".py",
   "mimetype": "text/x-python",
   "name": "python",
   "nbconvert_exporter": "python",
   "pygments_lexer": "ipython3",
   "version": "3.5.5"
  }
 },
 "nbformat": 4,
 "nbformat_minor": 2
}
